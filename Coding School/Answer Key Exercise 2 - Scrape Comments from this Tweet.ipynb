{
 "cells": [
  {
   "cell_type": "code",
   "execution_count": 1,
   "metadata": {},
   "outputs": [],
   "source": [
    "from selenium import webdriver\n",
    "from selenium.common.exceptions import TimeoutException\n",
    "import pandas as pd\n",
    "import os\n",
    "\n",
    "import warnings\n",
    "warnings.filterwarnings('ignore')"
   ]
  },
  {
   "cell_type": "code",
   "execution_count": 38,
   "metadata": {},
   "outputs": [
    {
     "name": "stdout",
     "output_type": "stream",
     "text": [
      "Path to Driver is C:\\Users\\COBENA\\Desktop\\Learn\\Code\\FTW\\Capstone\\Automotive\\Web Scraping\\chromedriver.exe\n"
     ]
    }
   ],
   "source": [
    "filepath = 'C:\\\\Users\\COBENA\\Desktop\\Learn\\Code\\FTW\\Capstone\\Automotive\\Web Scraping\\chromedriver.exe'\n",
    "print('Path to Driver is '+filepath)\n",
    "browser=webdriver.Chrome(executable_path=filepath)\n",
    "\n",
    "#Fill out the link to tell chrome to go to the url inside the parenthesis\n",
    "browser.get('https://twitter.com/Bulbapedia/status/1156414180393717761')\n"
   ]
  },
  {
   "cell_type": "code",
   "execution_count": 47,
   "metadata": {},
   "outputs": [
    {
     "name": "stdout",
     "output_type": "stream",
     "text": [
      "done\n"
     ]
    }
   ],
   "source": [
    "#create a dataframe to store all the information here\n",
    "df=pd.DataFrame()\n",
    "\n",
    "#place the class name for each tweet. Take note elements is used instead of element\n",
    "tweet_list = browser.find_elements_by_class_name('js-stream-item')\n",
    "for x in tweet_list:\n",
    "    try:\n",
    "        #fill out the class name of each element\n",
    "        name = x.find_element_by_class_name('fullname').text\n",
    "        username = x.find_element_by_class_name('username').text\n",
    "        tweet = x.find_element_by_class_name('tweet-text').text\n",
    "        date = x.find_element_by_class_name('_timestamp').text\n",
    "        \n",
    "        #create a dictionary so you can store the information of the two items topic and value\n",
    "        record={'name':name,'username':username,'tweet':tweet,'date':date}\n",
    "    \n",
    "        #create a list to organize the sequence of the columns of the dataframe since dictionaries are not sequential\n",
    "        order_list = ['name','username','tweet','date']\n",
    "    \n",
    "        #append the information into your dataframe\n",
    "        df = df.append(record, ignore_index=True)\n",
    "    \n",
    "        #sort the order based on the list\n",
    "        df = df[order_list]\n",
    "    except:\n",
    "        print('Skip')\n",
    "\n",
    "try:\n",
    "    #name of the file. You can also specify a location\n",
    "    savepath = \"bulbapedia_tweet.csv\"\n",
    "    \n",
    "    #save the dataframe into a csv file\n",
    "    tweets = df.to_csv(savepath, index=None, header=False)\n",
    "    \n",
    "    #notifier that the whole loop is complete\n",
    "    print('done')\n",
    "    \n",
    "except Exception as e:\n",
    "    \n",
    "    #if the saving fails, it will print the reason for the error below\n",
    "    print (\"Export exception:\", e)"
   ]
  },
  {
   "cell_type": "code",
   "execution_count": null,
   "metadata": {},
   "outputs": [],
   "source": []
  }
 ],
 "metadata": {
  "kernelspec": {
   "display_name": "Python 3",
   "language": "python",
   "name": "python3"
  },
  "language_info": {
   "codemirror_mode": {
    "name": "ipython",
    "version": 3
   },
   "file_extension": ".py",
   "mimetype": "text/x-python",
   "name": "python",
   "nbconvert_exporter": "python",
   "pygments_lexer": "ipython3",
   "version": "3.7.3"
  }
 },
 "nbformat": 4,
 "nbformat_minor": 2
}
