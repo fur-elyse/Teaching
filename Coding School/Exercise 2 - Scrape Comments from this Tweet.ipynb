{
 "cells": [
  {
   "cell_type": "code",
   "execution_count": 1,
   "metadata": {},
   "outputs": [],
   "source": [
    "from selenium import webdriver\n",
    "from selenium.common.exceptions import TimeoutException\n",
    "import pandas as pd\n",
    "import os\n",
    "\n",
    "import warnings\n",
    "warnings.filterwarnings('ignore')"
   ]
  },
  {
   "cell_type": "code",
   "execution_count": 38,
   "metadata": {},
   "outputs": [
    {
     "name": "stdout",
     "output_type": "stream",
     "text": [
      "Path to Driver is C:\\Users\\COBENA\\Desktop\\Learn\\Code\\FTW\\Capstone\\Automotive\\Web Scraping\\chromedriver.exe\n"
     ]
    }
   ],
   "source": [
    "filepath = 'Fill This In'\n",
    "print('Path to Driver is '+filepath)\n",
    "browser='Fill This In'(executable_path='Fill This In')\n",
    "\n",
    "#Fill out the link to tell chrome to go to the url inside the parenthesis\n",
    "browser.get('Fill This In')\n"
   ]
  },
  {
   "cell_type": "code",
   "execution_count": 47,
   "metadata": {},
   "outputs": [
    {
     "name": "stdout",
     "output_type": "stream",
     "text": [
      "done\n"
     ]
    }
   ],
   "source": [
    "#create a dataframe to store all the information here\n",
    "df='Fill This In'\n",
    "\n",
    "#place the class name for each tweet. Take note elements is used instead of element\n",
    "tweet_list = browser.find_elements_by_class_name('Fill This In')\n",
    "\n",
    "#create for loop to get each Web element of tweet list.\n",
    "for x in tweet_list:\n",
    "    try:\n",
    "        #fill out the class name of each element\n",
    "        name = x.find_element_by_class_name('Fill This In').text\n",
    "        username = x.find_element_by_class_name('Fill This In').text\n",
    "        tweet = x.find_element_by_class_name('Fill This In').text\n",
    "        date = x.find_element_by_class_name('Fill This In').text\n",
    "        \n",
    "        #create a dictionary so you can store the information of the two items topic and value\n",
    "        record = 'Fill This In'\n",
    "    \n",
    "        #create a list to organize the sequence of the columns of the dataframe since dictionaries are not sequential\n",
    "        order_list = 'Fill This In'\n",
    "    \n",
    "        #append the information into your dataframe\n",
    "        'Fill This In'\n",
    "    \n",
    "        #sort the order based on the list\n",
    "        'Fill This In'\n",
    "    except:\n",
    "        print('Fill This In')\n",
    "\n",
    "try:\n",
    "    #name of the file. You can also specify a location\n",
    "    savepath = 'Fill This In'\n",
    "    \n",
    "    #save the dataframe into a csv file\n",
    "    'Fill This In'\n",
    "    \n",
    "    #notifier that the whole loop is complete\n",
    "    'Fill This In'\n",
    "    \n",
    "except Exception as e:\n",
    "    \n",
    "    #if the saving fails, it will print the reason for the error below\n",
    "    'Fill This In'"
   ]
  },
  {
   "cell_type": "code",
   "execution_count": null,
   "metadata": {},
   "outputs": [],
   "source": []
  }
 ],
 "metadata": {
  "kernelspec": {
   "display_name": "Python 3",
   "language": "python",
   "name": "python3"
  },
  "language_info": {
   "codemirror_mode": {
    "name": "ipython",
    "version": 3
   },
   "file_extension": ".py",
   "mimetype": "text/x-python",
   "name": "python",
   "nbconvert_exporter": "python",
   "pygments_lexer": "ipython3",
   "version": "3.7.3"
  }
 },
 "nbformat": 4,
 "nbformat_minor": 2
}
